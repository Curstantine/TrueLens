{
 "cells": [
  {
   "cell_type": "code",
   "execution_count": null,
   "metadata": {},
   "outputs": [],
   "source": [
    "pip install psycopg2-binary scikit-learn numpy"
   ]
  },
  {
   "cell_type": "code",
   "execution_count": 4,
   "metadata": {},
   "outputs": [
    {
     "name": "stdout",
     "output_type": "stream",
     "text": [
      "No valid articles found. Process terminated.\n"
     ]
    }
   ],
   "source": [
    "import os\n",
    "import json\n",
    "import numpy as np\n",
    "from sklearn.feature_extraction.text import TfidfVectorizer\n",
    "from sklearn.cluster import KMeans\n",
    "\n",
    "# Path to the articles directory\n",
    "ARTICLES_DIR = \"D:/TrueLensSdgp/TrueLens/news_filtered_data/news_source_data/data/articles\"\n",
    "OUTPUT_FILE = \"D:/TrueLensSdgp/TrueLens/news_filtered_data/news_source_data/data/grouped_articles.json\"\n",
    "\n",
    "def is_ascii(s):\n",
    "    \"\"\" Check if the string contains only ASCII characters. \"\"\"\n",
    "    return all(ord(c) < 128 for c in s)\n",
    "\n",
    "def load_articles(directory):\n",
    "    \"\"\" Load articles from JSON files and filter out empty ones. \"\"\"\n",
    "    articles = []\n",
    "    \n",
    "    for root, _, files in os.walk(directory):\n",
    "        for file in files:\n",
    "            if file.endswith(\".json\"):\n",
    "                with open(os.path.join(root, file), \"r\", encoding=\"utf-8\") as f:\n",
    "                    data = json.load(f)\n",
    "                    text = \" \".join(data.get(\"body_paragraphs\", [])).strip()  # Combine and clean text\n",
    "                    \n",
    "                    # Skip empty articles and non-ASCII titles\n",
    "                    if text and is_ascii(data[\"title\"]):\n",
    "                        articles.append({\n",
    "                            \"url\": data[\"url\"],\n",
    "                            \"title\": data[\"title\"],\n",
    "                            \"ut\": data[\"ut\"],\n",
    "                            \"body_paragraphs\": text\n",
    "                        })\n",
    "    \n",
    "    return articles\n",
    "\n",
    "def cluster_articles(articles, num_clusters=5):\n",
    "    \"\"\" Cluster articles using TF-IDF and KMeans. \"\"\"\n",
    "    body_paragraphs = [article[\"body_paragraphs\"] for article in articles]\n",
    "    \n",
    "    # Handle case where all documents are empty\n",
    "    if not any(body_paragraphs):\n",
    "        raise ValueError(\"No valid articles found for clustering.\")\n",
    "    \n",
    "    vectorizer = TfidfVectorizer(stop_words=\"english\", max_features=5000)\n",
    "    X = vectorizer.fit_transform(body_paragraphs)\n",
    "\n",
    "    if X.shape[0] < num_clusters:\n",
    "        raise ValueError(f\"Not enough valid articles ({X.shape[0]}) for {num_clusters} clusters. Reduce the cluster count.\")\n",
    "\n",
    "    kmeans = KMeans(n_clusters=num_clusters, random_state=42)\n",
    "    clusters = kmeans.fit_predict(X)\n",
    "\n",
    "    for i, article in enumerate(articles):\n",
    "        article[\"cluster_id\"] = int(clusters[i])\n",
    "    \n",
    "    return articles\n",
    "\n",
    "def save_grouped_articles(articles, output_file):\n",
    "    \"\"\" Save grouped articles to a JSON file. \"\"\"\n",
    "    grouped_articles = {}\n",
    "    for article in articles:\n",
    "        cluster_id = article[\"cluster_id\"]\n",
    "        if cluster_id not in grouped_articles:\n",
    "            grouped_articles[cluster_id] = []\n",
    "        grouped_articles[cluster_id].append(article)\n",
    "    \n",
    "    with open(output_file, \"w\", encoding=\"utf-8\") as f:\n",
    "        json.dump(grouped_articles, f, indent=2)\n",
    "\n",
    "# Run the process\n",
    "articles = load_articles(ARTICLES_DIR)\n",
    "\n",
    "if articles:\n",
    "    clustered_articles = cluster_articles(articles, num_clusters=min(5, len(articles)))  # Ensure we don't request more clusters than articles\n",
    "    print(\"Clustering Completed.\")\n",
    "    save_grouped_articles(clustered_articles, OUTPUT_FILE)\n",
    "    print(f\"Grouped articles saved to {OUTPUT_FILE}.\")\n",
    "else:\n",
    "    print(\"No valid articles found. Process terminated.\")"
   ]
  }
 ],
 "metadata": {
  "kernelspec": {
   "display_name": "base",
   "language": "python",
   "name": "python3"
  },
  "language_info": {
   "codemirror_mode": {
    "name": "ipython",
    "version": 3
   },
   "file_extension": ".py",
   "mimetype": "text/x-python",
   "name": "python",
   "nbconvert_exporter": "python",
   "pygments_lexer": "ipython3",
   "version": "3.11.7"
  }
 },
 "nbformat": 4,
 "nbformat_minor": 2
}
