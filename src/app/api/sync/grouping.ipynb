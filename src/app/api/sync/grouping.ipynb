{
 "cells": [
  {
   "cell_type": "code",
   "execution_count": 16,
   "metadata": {},
   "outputs": [
    {
     "name": "stdout",
     "output_type": "stream",
     "text": [
      "Requirement already satisfied: psycopg2-binary in c:\\users\\kirushnabalan\\appdata\\local\\programs\\python\\python313\\lib\\site-packages (2.9.10)\n",
      "Requirement already satisfied: scikit-learn in c:\\users\\kirushnabalan\\appdata\\local\\programs\\python\\python313\\lib\\site-packages (1.6.1)\n",
      "Requirement already satisfied: numpy in c:\\users\\kirushnabalan\\appdata\\local\\programs\\python\\python313\\lib\\site-packages (2.1.0)\n",
      "Requirement already satisfied: scipy>=1.6.0 in c:\\users\\kirushnabalan\\appdata\\local\\programs\\python\\python313\\lib\\site-packages (from scikit-learn) (1.15.2)\n",
      "Requirement already satisfied: joblib>=1.2.0 in c:\\users\\kirushnabalan\\appdata\\local\\programs\\python\\python313\\lib\\site-packages (from scikit-learn) (1.4.2)\n",
      "Requirement already satisfied: threadpoolctl>=3.1.0 in c:\\users\\kirushnabalan\\appdata\\local\\programs\\python\\python313\\lib\\site-packages (from scikit-learn) (3.5.0)\n",
      "Note: you may need to restart the kernel to use updated packages.\n"
     ]
    },
    {
     "name": "stderr",
     "output_type": "stream",
     "text": [
      "\n",
      "[notice] A new release of pip is available: 24.3.1 -> 25.0.1\n",
      "[notice] To update, run: python.exe -m pip install --upgrade pip\n"
     ]
    }
   ],
   "source": [
    "pip install psycopg2-binary scikit-learn numpy"
   ]
  },
  {
   "cell_type": "code",
   "execution_count": 17,
   "metadata": {},
   "outputs": [
    {
     "name": "stdout",
     "output_type": "stream",
     "text": [
      "Requirement already satisfied: sentence-transformers in c:\\users\\kirushnabalan\\appdata\\local\\programs\\python\\python313\\lib\\site-packages (3.4.1)\n",
      "Requirement already satisfied: transformers<5.0.0,>=4.41.0 in c:\\users\\kirushnabalan\\appdata\\local\\programs\\python\\python313\\lib\\site-packages (from sentence-transformers) (4.49.0)\n",
      "Requirement already satisfied: tqdm in c:\\users\\kirushnabalan\\appdata\\local\\programs\\python\\python313\\lib\\site-packages (from sentence-transformers) (4.67.1)\n",
      "Requirement already satisfied: torch>=1.11.0 in c:\\users\\kirushnabalan\\appdata\\local\\programs\\python\\python313\\lib\\site-packages (from sentence-transformers) (2.6.0)\n",
      "Requirement already satisfied: scikit-learn in c:\\users\\kirushnabalan\\appdata\\local\\programs\\python\\python313\\lib\\site-packages (from sentence-transformers) (1.6.1)\n",
      "Requirement already satisfied: scipy in c:\\users\\kirushnabalan\\appdata\\local\\programs\\python\\python313\\lib\\site-packages (from sentence-transformers) (1.15.2)\n",
      "Requirement already satisfied: huggingface-hub>=0.20.0 in c:\\users\\kirushnabalan\\appdata\\local\\programs\\python\\python313\\lib\\site-packages (from sentence-transformers) (0.29.2)\n",
      "Requirement already satisfied: Pillow in c:\\users\\kirushnabalan\\appdata\\local\\programs\\python\\python313\\lib\\site-packages (from sentence-transformers) (11.1.0)\n",
      "Requirement already satisfied: filelock in c:\\users\\kirushnabalan\\appdata\\local\\programs\\python\\python313\\lib\\site-packages (from huggingface-hub>=0.20.0->sentence-transformers) (3.17.0)\n",
      "Requirement already satisfied: fsspec>=2023.5.0 in c:\\users\\kirushnabalan\\appdata\\local\\programs\\python\\python313\\lib\\site-packages (from huggingface-hub>=0.20.0->sentence-transformers) (2025.2.0)\n",
      "Requirement already satisfied: packaging>=20.9 in c:\\users\\kirushnabalan\\appdata\\roaming\\python\\python313\\site-packages (from huggingface-hub>=0.20.0->sentence-transformers) (24.2)\n",
      "Requirement already satisfied: pyyaml>=5.1 in c:\\users\\kirushnabalan\\appdata\\local\\programs\\python\\python313\\lib\\site-packages (from huggingface-hub>=0.20.0->sentence-transformers) (6.0.2)\n",
      "Requirement already satisfied: requests in c:\\users\\kirushnabalan\\appdata\\local\\programs\\python\\python313\\lib\\site-packages (from huggingface-hub>=0.20.0->sentence-transformers) (2.32.3)\n",
      "Requirement already satisfied: typing-extensions>=3.7.4.3 in c:\\users\\kirushnabalan\\appdata\\local\\programs\\python\\python313\\lib\\site-packages (from huggingface-hub>=0.20.0->sentence-transformers) (4.12.2)\n",
      "Requirement already satisfied: networkx in c:\\users\\kirushnabalan\\appdata\\local\\programs\\python\\python313\\lib\\site-packages (from torch>=1.11.0->sentence-transformers) (3.4.2)\n",
      "Requirement already satisfied: jinja2 in c:\\users\\kirushnabalan\\appdata\\local\\programs\\python\\python313\\lib\\site-packages (from torch>=1.11.0->sentence-transformers) (3.1.6)\n",
      "Requirement already satisfied: setuptools in c:\\users\\kirushnabalan\\appdata\\local\\programs\\python\\python313\\lib\\site-packages (from torch>=1.11.0->sentence-transformers) (75.8.2)\n",
      "Requirement already satisfied: sympy==1.13.1 in c:\\users\\kirushnabalan\\appdata\\local\\programs\\python\\python313\\lib\\site-packages (from torch>=1.11.0->sentence-transformers) (1.13.1)\n",
      "Requirement already satisfied: mpmath<1.4,>=1.1.0 in c:\\users\\kirushnabalan\\appdata\\local\\programs\\python\\python313\\lib\\site-packages (from sympy==1.13.1->torch>=1.11.0->sentence-transformers) (1.3.0)\n",
      "Requirement already satisfied: colorama in c:\\users\\kirushnabalan\\appdata\\roaming\\python\\python313\\site-packages (from tqdm->sentence-transformers) (0.4.6)\n",
      "Requirement already satisfied: numpy>=1.17 in c:\\users\\kirushnabalan\\appdata\\local\\programs\\python\\python313\\lib\\site-packages (from transformers<5.0.0,>=4.41.0->sentence-transformers) (2.1.0)\n",
      "Requirement already satisfied: regex!=2019.12.17 in c:\\users\\kirushnabalan\\appdata\\local\\programs\\python\\python313\\lib\\site-packages (from transformers<5.0.0,>=4.41.0->sentence-transformers) (2024.11.6)\n",
      "Requirement already satisfied: tokenizers<0.22,>=0.21 in c:\\users\\kirushnabalan\\appdata\\local\\programs\\python\\python313\\lib\\site-packages (from transformers<5.0.0,>=4.41.0->sentence-transformers) (0.21.0)\n",
      "Requirement already satisfied: safetensors>=0.4.1 in c:\\users\\kirushnabalan\\appdata\\local\\programs\\python\\python313\\lib\\site-packages (from transformers<5.0.0,>=4.41.0->sentence-transformers) (0.5.3)\n",
      "Requirement already satisfied: joblib>=1.2.0 in c:\\users\\kirushnabalan\\appdata\\local\\programs\\python\\python313\\lib\\site-packages (from scikit-learn->sentence-transformers) (1.4.2)\n",
      "Requirement already satisfied: threadpoolctl>=3.1.0 in c:\\users\\kirushnabalan\\appdata\\local\\programs\\python\\python313\\lib\\site-packages (from scikit-learn->sentence-transformers) (3.5.0)\n",
      "Requirement already satisfied: MarkupSafe>=2.0 in c:\\users\\kirushnabalan\\appdata\\local\\programs\\python\\python313\\lib\\site-packages (from jinja2->torch>=1.11.0->sentence-transformers) (3.0.2)\n",
      "Requirement already satisfied: charset-normalizer<4,>=2 in c:\\users\\kirushnabalan\\appdata\\local\\programs\\python\\python313\\lib\\site-packages (from requests->huggingface-hub>=0.20.0->sentence-transformers) (3.4.1)\n",
      "Requirement already satisfied: idna<4,>=2.5 in c:\\users\\kirushnabalan\\appdata\\local\\programs\\python\\python313\\lib\\site-packages (from requests->huggingface-hub>=0.20.0->sentence-transformers) (3.10)\n",
      "Requirement already satisfied: urllib3<3,>=1.21.1 in c:\\users\\kirushnabalan\\appdata\\local\\programs\\python\\python313\\lib\\site-packages (from requests->huggingface-hub>=0.20.0->sentence-transformers) (2.3.0)\n",
      "Requirement already satisfied: certifi>=2017.4.17 in c:\\users\\kirushnabalan\\appdata\\local\\programs\\python\\python313\\lib\\site-packages (from requests->huggingface-hub>=0.20.0->sentence-transformers) (2025.1.31)\n",
      "Note: you may need to restart the kernel to use updated packages.\n"
     ]
    },
    {
     "name": "stderr",
     "output_type": "stream",
     "text": [
      "\n",
      "[notice] A new release of pip is available: 24.3.1 -> 25.0.1\n",
      "[notice] To update, run: python.exe -m pip install --upgrade pip\n"
     ]
    }
   ],
   "source": [
    "pip install sentence-transformers"
   ]
  },
  {
   "cell_type": "code",
   "execution_count": 18,
   "metadata": {},
   "outputs": [
    {
     "name": "stdout",
     "output_type": "stream",
     "text": [
      "Processing d:\\sdgptruelens\\truelens\\src\\app\\api\\sync\\hdbscan-0.8.29-cp313-cp313-win_amd64.whl\n",
      "Note: you may need to restart the kernel to use updated packages.\n"
     ]
    },
    {
     "name": "stderr",
     "output_type": "stream",
     "text": [
      "WARNING: Requirement 'hdbscan-0.8.29-cp313-cp313-win_amd64.whl' looks like a filename, but the file does not exist\n",
      "ERROR: Could not install packages due to an OSError: [Errno 2] No such file or directory: 'D:\\\\sdgpTruelens\\\\TrueLens\\\\src\\\\app\\\\api\\\\sync\\\\hdbscan-0.8.29-cp313-cp313-win_amd64.whl'\n",
      "\n",
      "\n",
      "[notice] A new release of pip is available: 24.3.1 -> 25.0.1\n",
      "[notice] To update, run: python.exe -m pip install --upgrade pip\n"
     ]
    }
   ],
   "source": [
    "pip install hdbscan-0.8.29-cp313-cp313-win_amd64.whl"
   ]
  },
  {
   "cell_type": "code",
   "execution_count": 19,
   "metadata": {},
   "outputs": [
    {
     "name": "stdout",
     "output_type": "stream",
     "text": [
      "Requirement already satisfied: bertopic in c:\\users\\kirushnabalan\\appdata\\local\\programs\\python\\python313\\lib\\site-packages (0.16.4)\n",
      "Requirement already satisfied: hdbscan>=0.8.29 in c:\\users\\kirushnabalan\\appdata\\local\\programs\\python\\python313\\lib\\site-packages (from bertopic) (0.8.40)\n",
      "Requirement already satisfied: numpy>=1.20.0 in c:\\users\\kirushnabalan\\appdata\\local\\programs\\python\\python313\\lib\\site-packages (from bertopic) (2.1.0)\n",
      "Requirement already satisfied: pandas>=1.1.5 in c:\\users\\kirushnabalan\\appdata\\local\\programs\\python\\python313\\lib\\site-packages (from bertopic) (2.2.3)\n",
      "Requirement already satisfied: plotly>=4.7.0 in c:\\users\\kirushnabalan\\appdata\\local\\programs\\python\\python313\\lib\\site-packages (from bertopic) (6.0.0)\n",
      "Requirement already satisfied: scikit-learn>=0.22.2.post1 in c:\\users\\kirushnabalan\\appdata\\local\\programs\\python\\python313\\lib\\site-packages (from bertopic) (1.6.1)\n",
      "Requirement already satisfied: sentence-transformers>=0.4.1 in c:\\users\\kirushnabalan\\appdata\\local\\programs\\python\\python313\\lib\\site-packages (from bertopic) (3.4.1)\n",
      "Requirement already satisfied: tqdm>=4.41.1 in c:\\users\\kirushnabalan\\appdata\\local\\programs\\python\\python313\\lib\\site-packages (from bertopic) (4.67.1)\n",
      "Requirement already satisfied: umap-learn>=0.5.0 in c:\\users\\kirushnabalan\\appdata\\local\\programs\\python\\python313\\lib\\site-packages (from bertopic) (0.5.7)\n",
      "Requirement already satisfied: scipy>=1.0 in c:\\users\\kirushnabalan\\appdata\\local\\programs\\python\\python313\\lib\\site-packages (from hdbscan>=0.8.29->bertopic) (1.15.2)\n",
      "Requirement already satisfied: joblib>=1.0 in c:\\users\\kirushnabalan\\appdata\\local\\programs\\python\\python313\\lib\\site-packages (from hdbscan>=0.8.29->bertopic) (1.4.2)\n",
      "Requirement already satisfied: python-dateutil>=2.8.2 in c:\\users\\kirushnabalan\\appdata\\roaming\\python\\python313\\site-packages (from pandas>=1.1.5->bertopic) (2.9.0.post0)\n",
      "Requirement already satisfied: pytz>=2020.1 in c:\\users\\kirushnabalan\\appdata\\local\\programs\\python\\python313\\lib\\site-packages (from pandas>=1.1.5->bertopic) (2025.1)\n",
      "Requirement already satisfied: tzdata>=2022.7 in c:\\users\\kirushnabalan\\appdata\\local\\programs\\python\\python313\\lib\\site-packages (from pandas>=1.1.5->bertopic) (2025.1)\n",
      "Requirement already satisfied: narwhals>=1.15.1 in c:\\users\\kirushnabalan\\appdata\\local\\programs\\python\\python313\\lib\\site-packages (from plotly>=4.7.0->bertopic) (1.29.1)\n",
      "Requirement already satisfied: packaging in c:\\users\\kirushnabalan\\appdata\\roaming\\python\\python313\\site-packages (from plotly>=4.7.0->bertopic) (24.2)\n",
      "Requirement already satisfied: threadpoolctl>=3.1.0 in c:\\users\\kirushnabalan\\appdata\\local\\programs\\python\\python313\\lib\\site-packages (from scikit-learn>=0.22.2.post1->bertopic) (3.5.0)\n",
      "Requirement already satisfied: transformers<5.0.0,>=4.41.0 in c:\\users\\kirushnabalan\\appdata\\local\\programs\\python\\python313\\lib\\site-packages (from sentence-transformers>=0.4.1->bertopic) (4.49.0)\n",
      "Requirement already satisfied: torch>=1.11.0 in c:\\users\\kirushnabalan\\appdata\\local\\programs\\python\\python313\\lib\\site-packages (from sentence-transformers>=0.4.1->bertopic) (2.6.0)\n",
      "Requirement already satisfied: huggingface-hub>=0.20.0 in c:\\users\\kirushnabalan\\appdata\\local\\programs\\python\\python313\\lib\\site-packages (from sentence-transformers>=0.4.1->bertopic) (0.29.2)\n",
      "Requirement already satisfied: Pillow in c:\\users\\kirushnabalan\\appdata\\local\\programs\\python\\python313\\lib\\site-packages (from sentence-transformers>=0.4.1->bertopic) (11.1.0)\n",
      "Requirement already satisfied: colorama in c:\\users\\kirushnabalan\\appdata\\roaming\\python\\python313\\site-packages (from tqdm>=4.41.1->bertopic) (0.4.6)\n",
      "Requirement already satisfied: numba>=0.51.2 in c:\\users\\kirushnabalan\\appdata\\local\\programs\\python\\python313\\lib\\site-packages (from umap-learn>=0.5.0->bertopic) (0.61.0)\n",
      "Requirement already satisfied: pynndescent>=0.5 in c:\\users\\kirushnabalan\\appdata\\local\\programs\\python\\python313\\lib\\site-packages (from umap-learn>=0.5.0->bertopic) (0.5.13)\n",
      "Requirement already satisfied: filelock in c:\\users\\kirushnabalan\\appdata\\local\\programs\\python\\python313\\lib\\site-packages (from huggingface-hub>=0.20.0->sentence-transformers>=0.4.1->bertopic) (3.17.0)\n",
      "Requirement already satisfied: fsspec>=2023.5.0 in c:\\users\\kirushnabalan\\appdata\\local\\programs\\python\\python313\\lib\\site-packages (from huggingface-hub>=0.20.0->sentence-transformers>=0.4.1->bertopic) (2025.2.0)\n",
      "Requirement already satisfied: pyyaml>=5.1 in c:\\users\\kirushnabalan\\appdata\\local\\programs\\python\\python313\\lib\\site-packages (from huggingface-hub>=0.20.0->sentence-transformers>=0.4.1->bertopic) (6.0.2)\n",
      "Requirement already satisfied: requests in c:\\users\\kirushnabalan\\appdata\\local\\programs\\python\\python313\\lib\\site-packages (from huggingface-hub>=0.20.0->sentence-transformers>=0.4.1->bertopic) (2.32.3)\n",
      "Requirement already satisfied: typing-extensions>=3.7.4.3 in c:\\users\\kirushnabalan\\appdata\\local\\programs\\python\\python313\\lib\\site-packages (from huggingface-hub>=0.20.0->sentence-transformers>=0.4.1->bertopic) (4.12.2)\n",
      "Requirement already satisfied: llvmlite<0.45,>=0.44.0dev0 in c:\\users\\kirushnabalan\\appdata\\local\\programs\\python\\python313\\lib\\site-packages (from numba>=0.51.2->umap-learn>=0.5.0->bertopic) (0.44.0)\n",
      "Requirement already satisfied: six>=1.5 in c:\\users\\kirushnabalan\\appdata\\roaming\\python\\python313\\site-packages (from python-dateutil>=2.8.2->pandas>=1.1.5->bertopic) (1.17.0)\n",
      "Requirement already satisfied: networkx in c:\\users\\kirushnabalan\\appdata\\local\\programs\\python\\python313\\lib\\site-packages (from torch>=1.11.0->sentence-transformers>=0.4.1->bertopic) (3.4.2)\n",
      "Requirement already satisfied: jinja2 in c:\\users\\kirushnabalan\\appdata\\local\\programs\\python\\python313\\lib\\site-packages (from torch>=1.11.0->sentence-transformers>=0.4.1->bertopic) (3.1.6)\n",
      "Requirement already satisfied: setuptools in c:\\users\\kirushnabalan\\appdata\\local\\programs\\python\\python313\\lib\\site-packages (from torch>=1.11.0->sentence-transformers>=0.4.1->bertopic) (75.8.2)\n",
      "Requirement already satisfied: sympy==1.13.1 in c:\\users\\kirushnabalan\\appdata\\local\\programs\\python\\python313\\lib\\site-packages (from torch>=1.11.0->sentence-transformers>=0.4.1->bertopic) (1.13.1)\n",
      "Requirement already satisfied: mpmath<1.4,>=1.1.0 in c:\\users\\kirushnabalan\\appdata\\local\\programs\\python\\python313\\lib\\site-packages (from sympy==1.13.1->torch>=1.11.0->sentence-transformers>=0.4.1->bertopic) (1.3.0)\n",
      "Requirement already satisfied: regex!=2019.12.17 in c:\\users\\kirushnabalan\\appdata\\local\\programs\\python\\python313\\lib\\site-packages (from transformers<5.0.0,>=4.41.0->sentence-transformers>=0.4.1->bertopic) (2024.11.6)\n",
      "Requirement already satisfied: tokenizers<0.22,>=0.21 in c:\\users\\kirushnabalan\\appdata\\local\\programs\\python\\python313\\lib\\site-packages (from transformers<5.0.0,>=4.41.0->sentence-transformers>=0.4.1->bertopic) (0.21.0)\n",
      "Requirement already satisfied: safetensors>=0.4.1 in c:\\users\\kirushnabalan\\appdata\\local\\programs\\python\\python313\\lib\\site-packages (from transformers<5.0.0,>=4.41.0->sentence-transformers>=0.4.1->bertopic) (0.5.3)\n",
      "Requirement already satisfied: MarkupSafe>=2.0 in c:\\users\\kirushnabalan\\appdata\\local\\programs\\python\\python313\\lib\\site-packages (from jinja2->torch>=1.11.0->sentence-transformers>=0.4.1->bertopic) (3.0.2)\n",
      "Requirement already satisfied: charset-normalizer<4,>=2 in c:\\users\\kirushnabalan\\appdata\\local\\programs\\python\\python313\\lib\\site-packages (from requests->huggingface-hub>=0.20.0->sentence-transformers>=0.4.1->bertopic) (3.4.1)\n",
      "Requirement already satisfied: idna<4,>=2.5 in c:\\users\\kirushnabalan\\appdata\\local\\programs\\python\\python313\\lib\\site-packages (from requests->huggingface-hub>=0.20.0->sentence-transformers>=0.4.1->bertopic) (3.10)\n",
      "Requirement already satisfied: urllib3<3,>=1.21.1 in c:\\users\\kirushnabalan\\appdata\\local\\programs\\python\\python313\\lib\\site-packages (from requests->huggingface-hub>=0.20.0->sentence-transformers>=0.4.1->bertopic) (2.3.0)\n",
      "Requirement already satisfied: certifi>=2017.4.17 in c:\\users\\kirushnabalan\\appdata\\local\\programs\\python\\python313\\lib\\site-packages (from requests->huggingface-hub>=0.20.0->sentence-transformers>=0.4.1->bertopic) (2025.1.31)\n",
      "Note: you may need to restart the kernel to use updated packages.\n"
     ]
    },
    {
     "name": "stderr",
     "output_type": "stream",
     "text": [
      "\n",
      "[notice] A new release of pip is available: 24.3.1 -> 25.0.1\n",
      "[notice] To update, run: python.exe -m pip install --upgrade pip\n"
     ]
    }
   ],
   "source": [
    "pip install bertopic"
   ]
  },
  {
   "cell_type": "code",
   "execution_count": null,
   "metadata": {},
   "outputs": [],
   "source": [
    "import os\n",
    "import json\n",
    "import numpy as np\n",
    "from pathlib import Path\n",
    "from bertopic import BERTopic\n",
    "from sentence_transformers import SentenceTransformer\n",
    "\n",
    "# Find the repository root dynamically\n",
    "REPO_ROOT = Path(os.getcwd()).resolve()\n",
    "while REPO_ROOT.name != \"TrueLens\" and REPO_ROOT != REPO_ROOT.parent:\n",
    "    REPO_ROOT = REPO_ROOT.parent  # Move up until we reach the repo root\n",
    "\n",
    "# Define paths relative to the repository root\n",
    "ARTICLES_DIR = REPO_ROOT / \"news_filtered_data/news_source_data/data/articles\"\n",
    "OUTPUT_FILE = REPO_ROOT / \"news_filtered_data/news_source_data/data/grouped_articles.json\"\n",
    "\n",
    "def is_ascii(s):\n",
    "    \"\"\" Check if the string contains only ASCII characters. \"\"\"\n",
    "    return all(ord(c) < 128 for c in s)\n",
    "\n",
    "def load_articles(directory):\n",
    "    \"\"\" Load articles from JSON files and filter out empty ones. \"\"\"\n",
    "    articles = []\n",
    "    \n",
    "    for file in Path(directory).rglob(\"*.json\"):  # Recursively find all JSON files\n",
    "        with open(file, \"r\", encoding=\"utf-8\") as f:\n",
    "            data = json.load(f)\n",
    "            text = \" \".join(data.get(\"body_paragraphs\", [])).strip()  # Combine and clean text\n",
    "            \n",
    "            # Skip empty articles and non-ASCII titles\n",
    "            if text and is_ascii(data[\"title\"]):\n",
    "                articles.append({\n",
    "                    \"url\": data[\"url\"],\n",
    "                    \"title\": data[\"title\"],\n",
    "                    \"ut\": data[\"ut\"],\n",
    "                    \"body_paragraphs\": text,\n",
    "                    \"outlet\": data.get(\"outlet\", \"unknown\"),\n",
    "                    \"reporter\": data.get(\"reporter\", None)\n",
    "                })\n",
    "    \n",
    "    return articles\n",
    "\n",
    "def cluster_articles(articles, num_clusters=5):\n",
    "    \"\"\" Cluster articles using BERTopic. \"\"\"\n",
    "    body_paragraphs = [article[\"body_paragraphs\"] for article in articles]\n",
    "    \n",
    "    # Handle case where all documents are empty\n",
    "    if not any(body_paragraphs):\n",
    "        raise ValueError(\"No valid articles found for clustering.\")\n",
    "    \n",
    "    # Use a pre-trained SentenceTransformer model for embeddings\n",
    "    model = SentenceTransformer(\"all-MiniLM-L6-v2\")\n",
    "    embeddings = model.encode(body_paragraphs, show_progress_bar=True)\n",
    "    \n",
    "    # Create and fit BERTopic model\n",
    "    topic_model = BERTopic(nr_topics=num_clusters)\n",
    "    topics, _ = topic_model.fit_transform(body_paragraphs, embeddings)\n",
    "    \n",
    "    for i, article in enumerate(articles):\n",
    "        article[\"cluster_id\"] = int(topics[i])\n",
    "    \n",
    "    return articles\n",
    "\n",
    "def save_grouped_articles(articles, output_file):\n",
    "    \"\"\" Save grouped articles to a JSON file. \"\"\"\n",
    "    grouped_articles = {}\n",
    "    for article in articles:\n",
    "        cluster_id = article[\"cluster_id\"]\n",
    "        if cluster_id not in grouped_articles:\n",
    "            grouped_articles[cluster_id] = []\n",
    "        grouped_articles[cluster_id].append(article)\n",
    "    \n",
    "    with open(output_file, \"w\", encoding=\"utf-8\") as f:\n",
    "        json.dump(grouped_articles, f, indent=2)\n",
    "\n",
    "def create_reporter_and_outlet(article):\n",
    "    \"\"\" Create reporter and outlet information. \"\"\"\n",
    "    reporter = article[\"reporter\"]\n",
    "    outlet = article[\"outlet\"]\n",
    "    \n",
    "    if not reporter:\n",
    "        reporter = f\"system-{outlet}\"\n",
    "        is_system = True\n",
    "    else:\n",
    "        is_system = False\n",
    "    \n",
    "    return {\n",
    "        \"reporter\": reporter,\n",
    "        \"is_system\": is_system,\n",
    "        \"outlet\": outlet\n",
    "    }\n",
    "\n",
    "def process_articles(articles):\n",
    "    \"\"\" Process articles to add reporter and outlet information. \"\"\"\n",
    "    for article in articles:\n",
    "        reporter_info = create_reporter_and_outlet(article)\n",
    "        article.update(reporter_info)\n",
    "    \n",
    "    return articles\n",
    "\n",
    "def create_story_and_calculate_factuality(clustered_articles):\n",
    "    \"\"\" Create stories and calculate factuality for clustered articles. \"\"\"\n",
    "    # Import trpcClient locally within the function\n",
    "    from trpc import client\n",
    "    print(dir(client))  # Print the contents of the trpc.client module\n",
    "    \n",
    "    from trpc.client import trpcClient\n",
    "    \n",
    "    for cluster_id, articles in clustered_articles.items():\n",
    "        # Create a new story\n",
    "        story = trpcClient.story.create({\n",
    "            \"title\": f\"Story for cluster {cluster_id}\",\n",
    "            \"articles\": [article[\"id\"] for article in articles]\n",
    "        })\n",
    "        \n",
    "        # Calculate factuality (assuming a function or service for this)\n",
    "        factuality = calculate_factuality(articles)\n",
    "        \n",
    "        # Update articles with story ID and factuality\n",
    "        for article in articles:\n",
    "            trpcClient.article.update({\n",
    "                \"id\": article[\"id\"],\n",
    "                \"storyId\": story[\"id\"],\n",
    "                \"factuality\": factuality\n",
    "            })\n",
    "\n",
    "def calculate_factuality(articles):\n",
    "    \"\"\" Dummy function to calculate factuality. Replace with actual implementation. \"\"\"\n",
    "    return 75  # Placeholder value\n",
    "\n",
    "# Run the process\n",
    "articles = load_articles(ARTICLES_DIR)\n",
    "\n",
    "if articles:\n",
    "    clustered_articles = cluster_articles(articles, num_clusters=min(5, len(articles)))  # Ensure we don't request more clusters than articles\n",
    "    print(\"Clustering Completed.\")\n",
    "    processed_articles = process_articles(clustered_articles)\n",
    "    save_grouped_articles(processed_articles, OUTPUT_FILE)\n",
    "    print(f\"Grouped articles saved to {OUTPUT_FILE}.\")\n",
    "    \n",
    "    # Create stories and calculate factuality\n",
    "    create_story_and_calculate_factuality(processed_articles)\n",
    "    print(\"Stories created and factuality calculated.\")\n",
    "else:\n",
    "    print(\"No valid articles found. Process terminated.\")"
   ]
  }
 ],
 "metadata": {
  "kernelspec": {
   "display_name": "Python 3",
   "language": "python",
   "name": "python3"
  },
  "language_info": {
   "codemirror_mode": {
    "name": "ipython",
    "version": 3
   },
   "file_extension": ".py",
   "mimetype": "text/x-python",
   "name": "python",
   "nbconvert_exporter": "python",
   "pygments_lexer": "ipython3",
   "version": "3.13.2"
  }
 },
 "nbformat": 4,
 "nbformat_minor": 2
}
