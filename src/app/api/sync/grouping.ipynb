{
 "cells": [
  {
   "cell_type": "code",
   "execution_count": null,
   "metadata": {},
   "outputs": [],
   "source": [
    "pip install psycopg2-binary scikit-learn numpy"
   ]
  },
  {
   "cell_type": "code",
   "execution_count": 1,
   "metadata": {},
   "outputs": [],
   "source": [
    "import os\n",
    "import json\n",
    "import numpy as np\n",
    "from sklearn.feature_extraction.text import TfidfVectorizer\n",
    "from sklearn.cluster import KMeans"
   ]
  },
  {
   "cell_type": "code",
   "execution_count": 8,
   "metadata": {},
   "outputs": [
    {
     "name": "stdout",
     "output_type": "stream",
     "text": [
      "Loaded 0 articles.\n"
     ]
    }
   ],
   "source": [
    "# Path to the articles directory\n",
    "ARTICLES_DIR = \"D:/TrueLensSdgp/TrueLens/news_filtered_data/news_source_data/data/articles\"\n",
    "\n",
    "def load_articles(directory):\n",
    "    \"\"\" Load articles from JSON files and filter out empty ones. \"\"\"\n",
    "    articles = []\n",
    "    \n",
    "    for root, _, files in os.walk(directory):\n",
    "        for file in files:\n",
    "            if file.endswith(\".json\"):\n",
    "                with open(os.path.join(root, file), \"r\", encoding=\"utf-8\") as f:\n",
    "                    data = json.load(f)\n",
    "                    text = \" \".join(data[\"body_paragraphs\"]).strip()\n",
    "                    \n",
    "                    # Skip empty articles\n",
    "                    if text:\n",
    "                        articles.append({\n",
    "                            \"url\": data[\"url\"],\n",
    "                            \"title\": data[\"title\"],\n",
    "                            \"ut\": data[\"ut\"],\n",
    "                            \"body_paragraphs\": text\n",
    "                        })\n",
    "    \n",
    "    return articles\n",
    "\n",
    "# Test article loading\n",
    "articles = load_articles(ARTICLES_DIR)\n",
    "print(f\"Loaded {len(articles)} articles.\")\n"
   ]
  },
  {
   "cell_type": "code",
   "execution_count": 9,
   "metadata": {},
   "outputs": [
    {
     "name": "stdout",
     "output_type": "stream",
     "text": [
      "Loaded 0 articles successfully.\n"
     ]
    }
   ],
   "source": [
    "# Path to the articles directory\n",
    "ARTICLES_DIR = \"D:/TrueLensSdgp/TrueLens/news_filtered_data/news_source_data/data/articles\"\n",
    "\n",
    "def load_articles(directory):\n",
    "    \"\"\" Load articles from JSON files and filter out empty ones. \"\"\"\n",
    "    articles = []\n",
    "    \n",
    "    for root, _, files in os.walk(directory):\n",
    "        for file in files:\n",
    "            if file.endswith(\".json\"):\n",
    "                with open(os.path.join(root, file), \"r\", encoding=\"utf-8\") as f:\n",
    "                    data = json.load(f)\n",
    "                    text = \" \".join(data.get(\"body_paragraphs\", [])).strip() \n",
    "                    \n",
    "                    # Skip empty articles\n",
    "                    if text:\n",
    "                        articles.append({\n",
    "                            \"url\": data[\"url\"],\n",
    "                            \"title\": data[\"title\"],\n",
    "                            \"ut\": data[\"ut\"],\n",
    "                            \"body_paragraphs\": text\n",
    "                        })\n",
    "    \n",
    "    return articles\n",
    "\n",
    "# Test article loading\n",
    "articles = load_articles(ARTICLES_DIR)\n",
    "print(f\"Loaded {len(articles)} articles successfully.\")\n"
   ]
  },
  {
   "cell_type": "code",
   "execution_count": 10,
   "metadata": {},
   "outputs": [
    {
     "name": "stdout",
     "output_type": "stream",
     "text": [
      "Loaded 0 articles successfully.\n"
     ]
    }
   ],
   "source": [
    "def load_articles(directory):\n",
    "    \"\"\" Load articles from JSON files and filter out empty ones. \"\"\"\n",
    "    articles = []\n",
    "    \n",
    "    for root, _, files in os.walk(directory):\n",
    "        for file in files:\n",
    "            if file.endswith(\".json\"):\n",
    "                with open(os.path.join(root, file), \"r\", encoding=\"utf-8\") as f:\n",
    "                    data = json.load(f)\n",
    "                    \n",
    "                    text = \" \".join(data[\"body_paragraphs\"]).strip()\n",
    "\n",
    "                    if text and is_ascii(data[\"title\"]):  \n",
    "                        articles.append({\n",
    "                            \"url\": data[\"url\"],\n",
    "                            \"title\": data[\"title\"],\n",
    "                            \"ut\": data[\"ut\"],\n",
    "                            \"body_paragraphs\": text\n",
    "                        })\n",
    "    \n",
    "    return articles\n",
    "\n",
    "# Test article loading\n",
    "articles = load_articles(ARTICLES_DIR)\n",
    "print(f\"Loaded {len(articles)} articles successfully.\")"
   ]
  },
  {
   "cell_type": "code",
   "execution_count": 12,
   "metadata": {},
   "outputs": [
    {
     "name": "stdout",
     "output_type": "stream",
     "text": [
      "Loaded 0 articles successfully.\n"
     ]
    }
   ],
   "source": [
    "def load_articles(directory):\n",
    "    \"\"\" Load articles from JSON files and filter out empty ones. \"\"\"\n",
    "    articles = []\n",
    "    \n",
    "    for root, _, files in os.walk(directory):\n",
    "        for file in files:\n",
    "            if file.endswith(\".json\"):\n",
    "                with open(os.path.join(root, file), \"r\", encoding=\"utf-8\") as f:\n",
    "                    data = json.load(f)\n",
    "                    \n",
    "                    text = \" \".join(data.get(\"body_paragraphs\", [])).strip()\n",
    "\n",
    "                    title = data.get(\"title\", \"\")\n",
    "\n",
    "                    if text and is_ascii(title):  \n",
    "                        articles.append({\n",
    "                            \"url\": data.get(\"url\", \"\"),\n",
    "                            \"title\": title,\n",
    "                            \"ut\": data.get(\"ut\", \"\"),\n",
    "                            \"body_paragraphs\": text\n",
    "                        })\n",
    "    \n",
    "    return articles\n",
    "\n",
    "# Test article loading\n",
    "articles = load_articles(ARTICLES_DIR)\n",
    "print(f\"Loaded {len(articles)} articles successfully.\")\n"
   ]
  },
  {
   "cell_type": "code",
   "execution_count": 13,
   "metadata": {},
   "outputs": [
    {
     "name": "stdout",
     "output_type": "stream",
     "text": [
      "No valid articles to cluster.\n"
     ]
    }
   ],
   "source": [
    "def cluster_articles(articles, num_clusters=5):\n",
    "    \"\"\" Cluster articles using TF-IDF and KMeans. \"\"\"\n",
    "    body_paragraphs = [article[\"body_paragraphs\"] for article in articles]\n",
    "    \n",
    "    # Handle case where all documents are empty\n",
    "    if not any(body_paragraphs):\n",
    "        raise ValueError(\"No valid articles found for clustering.\")\n",
    "    \n",
    "    vectorizer = TfidfVectorizer(stop_words=\"english\", max_features=5000)\n",
    "    X = vectorizer.fit_transform(body_paragraphs)\n",
    "\n",
    "    # Ensure we have enough articles for the requested number of clusters\n",
    "    if X.shape[0] < num_clusters:\n",
    "        raise ValueError(f\"Not enough valid articles ({X.shape[0]}) for {num_clusters} clusters. Reduce the cluster count.\")\n",
    "\n",
    "    kmeans = KMeans(n_clusters=num_clusters, random_state=42, n_init=10)\n",
    "    clusters = kmeans.fit_predict(X)\n",
    "\n",
    "    # Assign cluster ID to each article\n",
    "    for i, article in enumerate(articles):\n",
    "        article[\"cluster_id\"] = int(clusters[i])\n",
    "    \n",
    "    return articles\n",
    "\n",
    "# Test clustering function\n",
    "if articles:\n",
    "    clustered_articles = cluster_articles(articles, num_clusters=min(5, len(articles)))\n",
    "    print(\"Clustering completed successfully.\")\n",
    "else:\n",
    "    print(\"No valid articles to cluster.\")\n"
   ]
  },
  {
   "cell_type": "code",
   "execution_count": 14,
   "metadata": {},
   "outputs": [
    {
     "ename": "SyntaxError",
     "evalue": "invalid syntax (2791431259.py, line 1)",
     "output_type": "error",
     "traceback": [
      "\u001b[1;36m  Cell \u001b[1;32mIn[14], line 1\u001b[1;36m\u001b[0m\n\u001b[1;33m    def save_grouped_articles(articles output_file)\u001b[0m\n\u001b[1;37m                                       ^\u001b[0m\n\u001b[1;31mSyntaxError\u001b[0m\u001b[1;31m:\u001b[0m invalid syntax\n"
     ]
    }
   ],
   "source": [
    "def save_grouped_articles(articles output_file)  \n",
    "    \"\"\" Save grouped articles to a JSON file. \"\"\"\n",
    "    grouped_articles = {}\n",
    "    \n",
    "    for article in articles:\n",
    "        cluster_id = article[\"cluster_id\"]\n",
    "        if cluster_id not in grouped_articles:\n",
    "            grouped_articles[cluster_id] = []\n",
    "        grouped_articles[cluster_id].append(article)\n",
    "    \n",
    "    with open(output_file, \"w\", encoding=\"utf-8\") as f:\n",
    "        json.dump(grouped_articles, f, indent=2)\n",
    "    \n",
    "    print(f\"Grouped articles saved to {outputfile}.\")  \n",
    "\n",
    "# Test saving function\n",
    "save_grouped_articles(articles, OUTPUT_FILE)  \n"
   ]
  }
 ],
 "metadata": {
  "kernelspec": {
   "display_name": "base",
   "language": "python",
   "name": "python3"
  },
  "language_info": {
   "codemirror_mode": {
    "name": "ipython",
    "version": 3
   },
   "file_extension": ".py",
   "mimetype": "text/x-python",
   "name": "python",
   "nbconvert_exporter": "python",
   "pygments_lexer": "ipython3",
   "version": "3.11.7"
  }
 },
 "nbformat": 4,
 "nbformat_minor": 2
}
