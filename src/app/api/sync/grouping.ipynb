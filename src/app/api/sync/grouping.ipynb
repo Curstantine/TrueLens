{
 "cells": [
  {
   "cell_type": "code",
   "execution_count": 1,
   "metadata": {},
   "outputs": [
    {
     "name": "stdout",
     "output_type": "stream",
     "text": [
      "Collecting psycopg2-binary\n",
      "  Downloading psycopg2_binary-2.9.10-cp311-cp311-win_amd64.whl.metadata (5.0 kB)\n",
      "Requirement already satisfied: scikit-learn in c:\\users\\asus\\anaconda3\\lib\\site-packages (1.2.2)\n",
      "Requirement already satisfied: numpy in c:\\users\\asus\\anaconda3\\lib\\site-packages (1.26.4)\n",
      "Requirement already satisfied: scipy>=1.3.2 in c:\\users\\asus\\anaconda3\\lib\\site-packages (from scikit-learn) (1.11.4)\n",
      "Requirement already satisfied: joblib>=1.1.1 in c:\\users\\asus\\anaconda3\\lib\\site-packages (from scikit-learn) (1.2.0)\n",
      "Requirement already satisfied: threadpoolctl>=2.0.0 in c:\\users\\asus\\anaconda3\\lib\\site-packages (from scikit-learn) (2.2.0)\n",
      "Downloading psycopg2_binary-2.9.10-cp311-cp311-win_amd64.whl (1.2 MB)\n",
      "   ---------------------------------------- 0.0/1.2 MB ? eta -:--:--\n",
      "    --------------------------------------- 0.0/1.2 MB 640.0 kB/s eta 0:00:02\n",
      "   - -------------------------------------- 0.0/1.2 MB 388.9 kB/s eta 0:00:03\n",
      "   -- ------------------------------------- 0.1/1.2 MB 409.6 kB/s eta 0:00:03\n",
      "   --- ------------------------------------ 0.1/1.2 MB 476.3 kB/s eta 0:00:03\n",
      "   --- ------------------------------------ 0.1/1.2 MB 502.0 kB/s eta 0:00:03\n",
      "   ---- ----------------------------------- 0.1/1.2 MB 532.5 kB/s eta 0:00:02\n",
      "   ----- ---------------------------------- 0.2/1.2 MB 508.4 kB/s eta 0:00:02\n",
      "   ------ --------------------------------- 0.2/1.2 MB 535.8 kB/s eta 0:00:02\n",
      "   ------ --------------------------------- 0.2/1.2 MB 535.8 kB/s eta 0:00:02\n",
      "   ------- -------------------------------- 0.2/1.2 MB 491.0 kB/s eta 0:00:02\n",
      "   -------- ------------------------------- 0.3/1.2 MB 524.0 kB/s eta 0:00:02\n",
      "   --------- ------------------------------ 0.3/1.2 MB 532.5 kB/s eta 0:00:02\n",
      "   --------- ------------------------------ 0.3/1.2 MB 491.1 kB/s eta 0:00:02\n",
      "   ---------- ----------------------------- 0.3/1.2 MB 475.1 kB/s eta 0:00:02\n",
      "   ------------ --------------------------- 0.4/1.2 MB 518.1 kB/s eta 0:00:02\n",
      "   ------------ --------------------------- 0.4/1.2 MB 518.1 kB/s eta 0:00:02\n",
      "   ------------- -------------------------- 0.4/1.2 MB 505.2 kB/s eta 0:00:02\n",
      "   -------------- ------------------------- 0.4/1.2 MB 513.9 kB/s eta 0:00:02\n",
      "   --------------- ------------------------ 0.5/1.2 MB 521.7 kB/s eta 0:00:02\n",
      "   ---------------- ----------------------- 0.5/1.2 MB 528.7 kB/s eta 0:00:02\n",
      "   ----------------- ---------------------- 0.5/1.2 MB 545.8 kB/s eta 0:00:02\n",
      "   ------------------- -------------------- 0.6/1.2 MB 551.0 kB/s eta 0:00:02\n",
      "   -------------------- ------------------- 0.6/1.2 MB 573.4 kB/s eta 0:00:02\n",
      "   --------------------- ------------------ 0.6/1.2 MB 587.6 kB/s eta 0:00:01\n",
      "   ---------------------- ----------------- 0.6/1.2 MB 580.3 kB/s eta 0:00:01\n",
      "   ----------------------- ---------------- 0.7/1.2 MB 592.3 kB/s eta 0:00:01\n",
      "   ------------------------ --------------- 0.7/1.2 MB 595.3 kB/s eta 0:00:01\n",
      "   -------------------------- ------------- 0.8/1.2 MB 613.6 kB/s eta 0:00:01\n",
      "   --------------------------- ------------ 0.8/1.2 MB 615.0 kB/s eta 0:00:01\n",
      "   ----------------------------- ---------- 0.8/1.2 MB 631.8 kB/s eta 0:00:01\n",
      "   ----------------------------- ---------- 0.9/1.2 MB 632.4 kB/s eta 0:00:01\n",
      "   ------------------------------ --------- 0.9/1.2 MB 619.3 kB/s eta 0:00:01\n",
      "   -------------------------------- ------- 0.9/1.2 MB 640.9 kB/s eta 0:00:01\n",
      "   --------------------------------- ------ 1.0/1.2 MB 641.7 kB/s eta 0:00:01\n",
      "   ---------------------------------- ----- 1.0/1.2 MB 655.0 kB/s eta 0:00:01\n",
      "   ------------------------------------ --- 1.1/1.2 MB 674.5 kB/s eta 0:00:01\n",
      "   ------------------------------------- -- 1.1/1.2 MB 674.2 kB/s eta 0:00:01\n",
      "   ------------------------------------- -- 1.1/1.2 MB 674.2 kB/s eta 0:00:01\n",
      "   -------------------------------------- - 1.1/1.2 MB 637.4 kB/s eta 0:00:01\n",
      "   ---------------------------------------  1.1/1.2 MB 649.5 kB/s eta 0:00:01\n",
      "   ---------------------------------------  1.2/1.2 MB 632.6 kB/s eta 0:00:01\n",
      "   ---------------------------------------- 1.2/1.2 MB 630.7 kB/s eta 0:00:00\n",
      "Installing collected packages: psycopg2-binary\n",
      "Successfully installed psycopg2-binary-2.9.10\n",
      "Note: you may need to restart the kernel to use updated packages.\n"
     ]
    }
   ],
   "source": [
    "pip install psycopg2-binary scikit-learn numpy"
   ]
  }
 ],
 "metadata": {
  "kernelspec": {
   "display_name": "base",
   "language": "python",
   "name": "python3"
  },
  "language_info": {
   "codemirror_mode": {
    "name": "ipython",
    "version": 3
   },
   "file_extension": ".py",
   "mimetype": "text/x-python",
   "name": "python",
   "nbconvert_exporter": "python",
   "pygments_lexer": "ipython3",
   "version": "3.11.7"
  }
 },
 "nbformat": 4,
 "nbformat_minor": 2
}
