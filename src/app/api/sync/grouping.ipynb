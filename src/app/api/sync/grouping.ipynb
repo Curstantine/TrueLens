{
 "cells": [
  {
   "cell_type": "code",
   "execution_count": null,
   "metadata": {},
   "outputs": [],
   "source": [
    "pip install psycopg2-binary scikit-learn numpy"
   ]
  },
  {
   "cell_type": "code",
   "execution_count": 1,
   "metadata": {},
   "outputs": [],
   "source": [
    "import os\n",
    "import json\n",
    "import numpy as np\n",
    "from sklearn.feature_extraction.text import TfidfVectorizer\n",
    "from sklearn.cluster import KMeans"
   ]
  },
  {
   "cell_type": "code",
   "execution_count": 8,
   "metadata": {},
   "outputs": [
    {
     "name": "stdout",
     "output_type": "stream",
     "text": [
      "Loaded 0 articles.\n"
     ]
    }
   ],
   "source": [
    "# Path to the articles directory\n",
    "ARTICLES_DIR = \"D:/TrueLensSdgp/TrueLens/news_filtered_data/news_source_data/data/articles\"\n",
    "\n",
    "def load_articles(directory):\n",
    "    \"\"\" Load articles from JSON files and filter out empty ones. \"\"\"\n",
    "    articles = []\n",
    "    \n",
    "    for root, _, files in os.walk(directory):\n",
    "        for file in files:\n",
    "            if file.endswith(\".json\"):\n",
    "                with open(os.path.join(root, file), \"r\", encoding=\"utf-8\") as f:\n",
    "                    data = json.load(f)\n",
    "                    text = \" \".join(data[\"body_paragraphs\"]).strip()\n",
    "                    \n",
    "                    # Skip empty articles\n",
    "                    if text:\n",
    "                        articles.append({\n",
    "                            \"url\": data[\"url\"],\n",
    "                            \"title\": data[\"title\"],\n",
    "                            \"ut\": data[\"ut\"],\n",
    "                            \"body_paragraphs\": text\n",
    "                        })\n",
    "    \n",
    "    return articles\n",
    "\n",
    "# Test article loading\n",
    "articles = load_articles(ARTICLES_DIR)\n",
    "print(f\"Loaded {len(articles)} articles.\")\n"
   ]
  }
 ],
 "metadata": {
  "kernelspec": {
   "display_name": "base",
   "language": "python",
   "name": "python3"
  },
  "language_info": {
   "codemirror_mode": {
    "name": "ipython",
    "version": 3
   },
   "file_extension": ".py",
   "mimetype": "text/x-python",
   "name": "python",
   "nbconvert_exporter": "python",
   "pygments_lexer": "ipython3",
   "version": "3.11.7"
  }
 },
 "nbformat": 4,
 "nbformat_minor": 2
}
